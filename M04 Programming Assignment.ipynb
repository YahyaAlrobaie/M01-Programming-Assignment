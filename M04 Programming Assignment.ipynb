{
 "cells": [
  {
   "cell_type": "markdown",
   "id": "be921206",
   "metadata": {},
   "source": [
    "11.1 Make a file called zoo.py. In it, define a function called hours that prints the string 'Open 9-5 daily'. Then, use the interactive interpreter to import the zoo module and call its hours function.\n",
    "\n"
   ]
  },
  {
   "cell_type": "code",
   "execution_count": 3,
   "id": "7271322b",
   "metadata": {},
   "outputs": [
    {
     "name": "stdout",
     "output_type": "stream",
     "text": [
      "Open 9-5 daily\n"
     ]
    }
   ],
   "source": [
    "import zoo\n",
    "zoo.hours()\n"
   ]
  },
  {
   "cell_type": "markdown",
   "id": "9b5393e2",
   "metadata": {},
   "source": [
    "11.2 In the interactive interpreter, import the zoo module as menagerie and call its hours() function.\n",
    "\n",
    "\n"
   ]
  },
  {
   "cell_type": "code",
   "execution_count": 4,
   "id": "f0c03c93",
   "metadata": {},
   "outputs": [
    {
     "name": "stdout",
     "output_type": "stream",
     "text": [
      "Open 9-5 daily\n"
     ]
    }
   ],
   "source": [
    "import zoo as menagerie\n",
    "menagerie.hours()\n"
   ]
  },
  {
   "cell_type": "markdown",
   "id": "7558dcd9",
   "metadata": {},
   "source": [
    "16.8 Use the sqlalchemy module to connect to the sqlite3 database books.db that you just made in exercise 16.4. As in 16.6, select and print the title column from the book table in alphabetical order.\n",
    "\n"
   ]
  },
  {
   "cell_type": "markdown",
   "id": "73e96f1f",
   "metadata": {},
   "source": [
    "16.4 Use the sqlite3 module to create a SQLite database called books.db and a table called books with these fields: title (text), author (text), and year (integer).\n",
    "\n"
   ]
  },
  {
   "cell_type": "code",
   "execution_count": 10,
   "id": "25ce6d28",
   "metadata": {},
   "outputs": [],
   "source": [
    "import sqlite3\n",
    "data_base = sqlite3.connect('books.db')\n",
    "curs = data_base.cursor()\n",
    "curs.execute('''create table book (title text, author text, year int)''')\n",
    "data_base.commit()"
   ]
  },
  {
   "cell_type": "markdown",
   "id": "e196442d",
   "metadata": {},
   "source": [
    "16.6 Select and print the title column from the book table in alphabetical order.\n",
    "\n"
   ]
  },
  {
   "cell_type": "code",
   "execution_count": 11,
   "id": "f1fc7a5e",
   "metadata": {},
   "outputs": [],
   "source": [
    "sql = 'select title from book order by title asc'\n",
    "for row in data_base.execute(sql):\n",
    "    print(row)\n"
   ]
  },
  {
   "cell_type": "markdown",
   "id": "a7864fbb",
   "metadata": {},
   "source": [
    "16.8 Use the sqlalchemy module to connect to the sqlite3 database books.db that you just made in exercise 16.4. As in 16.6, select and print the title column from the book table in alphabetical order."
   ]
  },
  {
   "cell_type": "code",
   "execution_count": 1,
   "id": "937bfca8",
   "metadata": {},
   "outputs": [],
   "source": [
    "import sqlalchemy\n",
    "conn = sqlalchemy.create_engine('sqlite:///books.db')\n",
    "sql = 'select title from book order by title asc'\n",
    "rows = conn.execute(sql)\n",
    "for row in rows:\n",
    "    print(row)\n",
    "\n"
   ]
  },
  {
   "cell_type": "code",
   "execution_count": null,
   "id": "51bcc52b",
   "metadata": {},
   "outputs": [],
   "source": []
  }
 ],
 "metadata": {
  "kernelspec": {
   "display_name": "Python 3 (ipykernel)",
   "language": "python",
   "name": "python3"
  },
  "language_info": {
   "codemirror_mode": {
    "name": "ipython",
    "version": 3
   },
   "file_extension": ".py",
   "mimetype": "text/x-python",
   "name": "python",
   "nbconvert_exporter": "python",
   "pygments_lexer": "ipython3",
   "version": "3.9.12"
  }
 },
 "nbformat": 4,
 "nbformat_minor": 5
}
